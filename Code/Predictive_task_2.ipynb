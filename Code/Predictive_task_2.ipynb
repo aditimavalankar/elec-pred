{
 "cells": [
  {
   "cell_type": "markdown",
   "metadata": {},
   "source": [
    "# Adding time-dependent features and keyword features to the existing model\n",
    "\n",
    "Predicting if there will be an interaction between two leaders has been done in 'Predictive_task_1.ipynb'. \n",
    "\n",
    "In this notebook, we will continue using the features we used in 'Predictive_task_1.ipynb' and add time-dependent features to that model. These features are:\n",
    "\n",
    "- Timestamp of the last date that a particular member interacted with other members of Parliament\n",
    "- The number of times in each year that these leaders have interacted in the House.\n",
    "\n",
    "After this model is used, we will also add a feature\n",
    "\n",
    "- One-hot vector of the top k keywords"
   ]
  },
  {
   "cell_type": "code",
   "execution_count": 30,
   "metadata": {},
   "outputs": [],
   "source": [
    "import pickle\n",
    "import numpy as np\n",
    "from random import shuffle\n",
    "from bs4 import BeautifulSoup\n",
    "import requests\n",
    "import math\n",
    "from sklearn import svm\n",
    "from datetime import datetime\n",
    "import operator\n",
    "from collections import OrderedDict"
   ]
  },
  {
   "cell_type": "code",
   "execution_count": 2,
   "metadata": {
    "collapsed": true
   },
   "outputs": [],
   "source": [
    "f = open('../Results/Pickles/member_names.pickle', 'rb')\n",
    "member_names = pickle.load(f)\n",
    "f.close()"
   ]
  },
  {
   "cell_type": "code",
   "execution_count": 3,
   "metadata": {
    "collapsed": true
   },
   "outputs": [],
   "source": [
    "f = open('../Results/Pickles/edge_details.pickle', 'rb')\n",
    "edge_details = pickle.load(f)\n",
    "f.close()"
   ]
  },
  {
   "cell_type": "code",
   "execution_count": 4,
   "metadata": {
    "collapsed": true
   },
   "outputs": [],
   "source": [
    "interactions = {}\n",
    "\n",
    "for rec in edge_details:\n",
    "    interactions[rec] = 0\n",
    "    for debate in edge_details[rec]:\n",
    "        interactions[rec] += len(edge_details[rec][debate])"
   ]
  },
  {
   "cell_type": "code",
   "execution_count": 5,
   "metadata": {
    "collapsed": true
   },
   "outputs": [],
   "source": [
    "individual_interaction = {}\n",
    "\n",
    "for rec in range(len(member_names)):\n",
    "    individual_interaction[rec] = 0\n",
    "\n",
    "for rec in edge_details:\n",
    "    for debate in edge_details[rec]:\n",
    "        individual_interaction[rec[0]] += len(edge_details[rec][debate])\n",
    "        individual_interaction[rec[1]] += len(edge_details[rec][debate])"
   ]
  },
  {
   "cell_type": "code",
   "execution_count": 6,
   "metadata": {
    "collapsed": true
   },
   "outputs": [],
   "source": [
    "timestamp = datetime(year = 2009, month = 1, day = 1)\n",
    "n = len(member_names)\n",
    "\n",
    "most_recent_timestamp = []\n",
    "\n",
    "for i in range(n):\n",
    "    most_recent_timestamp.append(timestamp)\n",
    "\n",
    "for rec in edge_details:\n",
    "    for debate in edge_details[rec]:\n",
    "        for ts in edge_details[rec][debate]:\n",
    "            most_recent_timestamp[rec[0]] = max(most_recent_timestamp[rec[0]], ts)\n",
    "            most_recent_timestamp[rec[1]] = max(most_recent_timestamp[rec[1]], ts)"
   ]
  },
  {
   "cell_type": "code",
   "execution_count": 7,
   "metadata": {
    "collapsed": true
   },
   "outputs": [],
   "source": [
    "session_dates = set([])\n",
    "\n",
    "for rec in edge_details:\n",
    "    for debate in edge_details[rec]:\n",
    "        for ts in edge_details[rec][debate]:\n",
    "            session_dates.add(ts)"
   ]
  },
  {
   "cell_type": "code",
   "execution_count": 8,
   "metadata": {
    "collapsed": true
   },
   "outputs": [],
   "source": [
    "types_of_debates = set([])\n",
    "debate_participation = []\n",
    "\n",
    "for rec in edge_details:\n",
    "    for debate in edge_details[rec]:\n",
    "        types_of_debates.add(debate)\n",
    "    \n",
    "types_of_debates = list(types_of_debates)\n",
    "types_of_debates.sort()\n",
    "\n",
    "for rec in range(len(member_names)):\n",
    "    debate_participation.append([0 for i in range(len(types_of_debates))])\n",
    "    \n",
    "for rec in edge_details:\n",
    "    for debate in edge_details[rec]:\n",
    "        debate_participation[rec[0]][types_of_debates.index(debate)] = 1\n",
    "        debate_participation[rec[1]][types_of_debates.index(debate)] = 1\n",
    "\n",
    "positive_data = []\n",
    "negative_data = []\n",
    "\n",
    "for i in range(n):\n",
    "    for j in range(i + 1, n):\n",
    "        if (i, j) in edge_details:\n",
    "            for debate in types_of_debates:\n",
    "                year_count = {2009:0, 2010:0, 2011:0, 2012:0, 2013:0, 2014:0}\n",
    "                for d in edge_details[(i, j)]:\n",
    "                    for ts in edge_details[(i, j)][d]:\n",
    "                        year_count[ts.year] += 1\n",
    "                yearly_interactions = sorted(year_count.items(), key = operator.itemgetter(0))\n",
    "                yearly_interactions = [x[1] for x in yearly_interactions]\n",
    "                if debate in edge_details[(i, j)]:\n",
    "                    one_hot = [0 for i in range(len(types_of_debates))]\n",
    "                    one_hot[types_of_debates.index(debate)] = 1\n",
    "                    feature_vector = debate_participation[i] + debate_participation[j] + one_hot + [individual_interaction[i], individual_interaction[j]] + yearly_interactions + [most_recent_timestamp[i].year, most_recent_timestamp[i].month, most_recent_timestamp[j].year, most_recent_timestamp[j].month, 1]\n",
    "                    positive_data.append(feature_vector)\n",
    "                else:\n",
    "                    one_hot = [0 for i in range(len(types_of_debates))]\n",
    "                    one_hot[types_of_debates.index(debate)] = 1\n",
    "                    feature_vector = debate_participation[i] + debate_participation[j] + one_hot + [individual_interaction[i], individual_interaction[j]] + yearly_interactions + [most_recent_timestamp[i].year, most_recent_timestamp[i].month, most_recent_timestamp[j].year, most_recent_timestamp[j].month, 1]\n",
    "                    negative_data.append(feature_vector)\n",
    "        else:\n",
    "            year_count = {2009:0, 2010:0, 2011:0, 2012:0, 2013:0, 2014:0}\n",
    "            yearly_interactions = sorted(year_count.items(), key = operator.itemgetter(0))\n",
    "            yearly_interactions = [x[1] for x in yearly_interactions]\n",
    "            for debate in types_of_debates:\n",
    "                one_hot = [0 for i in range(len(types_of_debates))]\n",
    "                one_hot[types_of_debates.index(debate)] = 1\n",
    "                feature_vector = debate_participation[i] + debate_participation[j] + one_hot + [individual_interaction[i], individual_interaction[j]] + yearly_interactions + [most_recent_timestamp[i].year, most_recent_timestamp[i].month, most_recent_timestamp[j].year, most_recent_timestamp[j].month, 1]\n",
    "                negative_data.append(feature_vector)"
   ]
  },
  {
   "cell_type": "code",
   "execution_count": 9,
   "metadata": {
    "collapsed": true
   },
   "outputs": [],
   "source": [
    "indices1 = [i for i in range(len(positive_data))]\n",
    "indices2 = [i for i in range(len(negative_data))]\n",
    "\n",
    "shuffle(indices1)\n",
    "shuffle(indices2)"
   ]
  },
  {
   "cell_type": "code",
   "execution_count": 10,
   "metadata": {},
   "outputs": [
    {
     "data": {
      "text/plain": [
       "4212701"
      ]
     },
     "execution_count": 10,
     "metadata": {},
     "output_type": "execute_result"
    }
   ],
   "source": [
    "len(indices2)"
   ]
  },
  {
   "cell_type": "code",
   "execution_count": 11,
   "metadata": {},
   "outputs": [
    {
     "data": {
      "text/plain": [
       "137029"
      ]
     },
     "execution_count": 11,
     "metadata": {},
     "output_type": "execute_result"
    }
   ],
   "source": [
    "len(indices1)"
   ]
  },
  {
   "cell_type": "code",
   "execution_count": 12,
   "metadata": {
    "collapsed": true
   },
   "outputs": [],
   "source": [
    "train_data = []\n",
    "train_labels = []\n",
    "\n",
    "for i in range(int(4 * len(indices1) / 5)):\n",
    "    train_data.append(positive_data[indices1[i]])\n",
    "    train_labels.append(1)\n",
    "    \n",
    "for i in range(int(4 * len(indices1) / 5)):\n",
    "    train_data.append(negative_data[indices2[i]])\n",
    "    train_labels.append(0)"
   ]
  },
  {
   "cell_type": "code",
   "execution_count": 13,
   "metadata": {
    "collapsed": true
   },
   "outputs": [],
   "source": [
    "theta4, residuals4, rank4, s4 = np.linalg.lstsq(train_data, train_labels)"
   ]
  },
  {
   "cell_type": "code",
   "execution_count": 14,
   "metadata": {
    "collapsed": true
   },
   "outputs": [],
   "source": [
    "test_data = []\n",
    "test_labels = []\n",
    "\n",
    "for i in range(int(4 * len(indices1) / 5), len(indices1)):\n",
    "    test_data.append(positive_data[indices1[i]])\n",
    "    test_labels.append(1)\n",
    "    \n",
    "\n",
    "for i in range(int(4 * len(indices1) / 5), len(indices1)):\n",
    "    test_data.append(negative_data[indices2[i]])\n",
    "    test_labels.append(0)"
   ]
  },
  {
   "cell_type": "code",
   "execution_count": 15,
   "metadata": {
    "collapsed": true
   },
   "outputs": [],
   "source": [
    "count = 0\n",
    "total = 0\n",
    "\n",
    "for i in range(len(test_data)):\n",
    "    val = 0.0\n",
    "    for j in range(len(theta4)):\n",
    "        val += theta4[j] * test_data[i][j]\n",
    "    if val > 0.5:\n",
    "        val = 1\n",
    "    else:\n",
    "        val = 0\n",
    "    if val == test_labels[i]:\n",
    "        count += 1\n",
    "    total += 1"
   ]
  },
  {
   "cell_type": "code",
   "execution_count": 16,
   "metadata": {},
   "outputs": [
    {
     "data": {
      "text/plain": [
       "0.8855360140115304"
      ]
     },
     "execution_count": 16,
     "metadata": {},
     "output_type": "execute_result"
    }
   ],
   "source": [
    "count * 1.0 / len(test_data)"
   ]
  },
  {
   "cell_type": "code",
   "execution_count": 22,
   "metadata": {},
   "outputs": [],
   "source": [
    "clf4 = svm.LinearSVC(C = 100)\n",
    "clf4.fit(train_data, train_labels)\n",
    "pred = clf4.predict(test_data)"
   ]
  },
  {
   "cell_type": "code",
   "execution_count": 23,
   "metadata": {},
   "outputs": [
    {
     "name": "stdout",
     "output_type": "stream",
     "text": [
      "0.8716339487703423\n"
     ]
    }
   ],
   "source": [
    "count = 0\n",
    "\n",
    "for i in range(len(pred)):\n",
    "    #print('Predicted: ' + str(pred[i]) + ', Actual: ' + str(test_labels[i]))\n",
    "    if pred[i] == test_labels[i]:\n",
    "        count += 1\n",
    "        \n",
    "print(count / len(test_labels))"
   ]
  },
  {
   "cell_type": "markdown",
   "metadata": {},
   "source": [
    "## Finding the most popular keywords"
   ]
  },
  {
   "cell_type": "code",
   "execution_count": 38,
   "metadata": {},
   "outputs": [],
   "source": [
    "f = open('../Data/keyword_frequencies.pickle', 'rb')\n",
    "keywords = pickle.load(f)\n",
    "f.close()\n",
    "\n",
    "k = 20  # Number of keywords\n",
    "\n",
    "topk = []\n",
    "\n",
    "count = 0\n",
    "for key in keywords:\n",
    "    if count == k:\n",
    "        break\n",
    "    count += 1\n",
    "    topk.append(key)"
   ]
  },
  {
   "cell_type": "markdown",
   "metadata": {},
   "source": [
    "# Adding one-hot vector for keywords"
   ]
  },
  {
   "cell_type": "code",
   "execution_count": 40,
   "metadata": {},
   "outputs": [],
   "source": [
    "positive_data = []\n",
    "negative_data = []\n",
    "\n",
    "for i in range(n):\n",
    "    for j in range(i + 1, n):\n",
    "        keyword_onehot = [0 for x in range(k)]\n",
    "        if (i, j) in edge_details:\n",
    "            for debate in types_of_debates:\n",
    "                year_count = {2009:0, 2010:0, 2011:0, 2012:0, 2013:0, 2014:0}\n",
    "                for d in edge_details[(i, j)]:\n",
    "                    for ts in edge_details[(i, j)][d]:\n",
    "                        year_count[ts.year] += 1\n",
    "                yearly_interactions = sorted(year_count.items(), key = operator.itemgetter(0))\n",
    "                yearly_interactions = [x[1] for x in yearly_interactions]\n",
    "                if debate in edge_details[(i, j)]:\n",
    "                    one_hot = [0 for i in range(len(types_of_debates))]\n",
    "                    one_hot[types_of_debates.index(debate)] = 1\n",
    "                    for ts in edge_details[(i, j)][debate]:\n",
    "                        for kw in edge_details[(i, j)][debate][ts]:\n",
    "                            if kw in topk:\n",
    "                                keyword_onehot[topk.index(kw)] = 1\n",
    "                    feature_vector = debate_participation[i] + debate_participation[j] + one_hot + [individual_interaction[i], individual_interaction[j]] + yearly_interactions + keyword_onehot + [most_recent_timestamp[i].year, most_recent_timestamp[i].month, most_recent_timestamp[j].year, most_recent_timestamp[j].month, 1]\n",
    "                    positive_data.append(feature_vector)\n",
    "                else:\n",
    "                    one_hot = [0 for i in range(len(types_of_debates))]\n",
    "                    one_hot[types_of_debates.index(debate)] = 1\n",
    "                    feature_vector = debate_participation[i] + debate_participation[j] + one_hot + [individual_interaction[i], individual_interaction[j]] + yearly_interactions + keyword_onehot + [most_recent_timestamp[i].year, most_recent_timestamp[i].month, most_recent_timestamp[j].year, most_recent_timestamp[j].month, 1]\n",
    "                    negative_data.append(feature_vector)\n",
    "        else:\n",
    "            year_count = {2009:0, 2010:0, 2011:0, 2012:0, 2013:0, 2014:0}\n",
    "            yearly_interactions = sorted(year_count.items(), key = operator.itemgetter(0))\n",
    "            yearly_interactions = [x[1] for x in yearly_interactions]\n",
    "            for debate in types_of_debates:\n",
    "                one_hot = [0 for i in range(len(types_of_debates))]\n",
    "                one_hot[types_of_debates.index(debate)] = 1\n",
    "                feature_vector = debate_participation[i] + debate_participation[j] + one_hot + [individual_interaction[i], individual_interaction[j]] + yearly_interactions + keyword_onehot + [most_recent_timestamp[i].year, most_recent_timestamp[i].month, most_recent_timestamp[j].year, most_recent_timestamp[j].month, 1]\n",
    "                negative_data.append(feature_vector)"
   ]
  },
  {
   "cell_type": "code",
   "execution_count": 41,
   "metadata": {
    "collapsed": true
   },
   "outputs": [],
   "source": [
    "indices1 = [i for i in range(len(positive_data))]\n",
    "indices2 = [i for i in range(len(negative_data))]\n",
    "\n",
    "shuffle(indices1)\n",
    "shuffle(indices2)"
   ]
  },
  {
   "cell_type": "code",
   "execution_count": 42,
   "metadata": {
    "collapsed": true
   },
   "outputs": [],
   "source": [
    "train_data = []\n",
    "train_labels = []\n",
    "\n",
    "for i in range(int(4 * len(indices1) / 5)):\n",
    "    train_data.append(positive_data[indices1[i]])\n",
    "    train_labels.append(1)\n",
    "    \n",
    "for i in range(int(4 * len(indices1) / 5)):\n",
    "    train_data.append(negative_data[indices2[i]])\n",
    "    train_labels.append(0)"
   ]
  },
  {
   "cell_type": "code",
   "execution_count": 43,
   "metadata": {
    "collapsed": true
   },
   "outputs": [],
   "source": [
    "theta5, residuals5, rank5, s5 = np.linalg.lstsq(train_data, train_labels)"
   ]
  },
  {
   "cell_type": "code",
   "execution_count": 44,
   "metadata": {
    "collapsed": true
   },
   "outputs": [],
   "source": [
    "test_data = []\n",
    "test_labels = []\n",
    "\n",
    "for i in range(int(4 * len(indices1) / 5), len(indices1)):\n",
    "    test_data.append(positive_data[indices1[i]])\n",
    "    test_labels.append(1)\n",
    "    \n",
    "\n",
    "for i in range(int(4 * len(indices1) / 5), len(indices1)):\n",
    "    test_data.append(negative_data[indices2[i]])\n",
    "    test_labels.append(0)"
   ]
  },
  {
   "cell_type": "code",
   "execution_count": 45,
   "metadata": {
    "collapsed": true
   },
   "outputs": [],
   "source": [
    "count = 0\n",
    "total = 0\n",
    "\n",
    "for i in range(len(test_data)):\n",
    "    val = 0.0\n",
    "    for j in range(len(theta5)):\n",
    "        val += theta5[j] * test_data[i][j]\n",
    "    if val > 0.5:\n",
    "        val = 1\n",
    "    else:\n",
    "        val = 0\n",
    "    if val == test_labels[i]:\n",
    "        count += 1\n",
    "    total += 1"
   ]
  },
  {
   "cell_type": "code",
   "execution_count": 46,
   "metadata": {},
   "outputs": [
    {
     "data": {
      "text/plain": [
       "0.8975406845216376"
      ]
     },
     "execution_count": 46,
     "metadata": {},
     "output_type": "execute_result"
    }
   ],
   "source": [
    "count * 1.0 / len(test_data)"
   ]
  },
  {
   "cell_type": "code",
   "execution_count": 53,
   "metadata": {
    "collapsed": true
   },
   "outputs": [],
   "source": [
    "clf5 = svm.LinearSVC(C = 50)\n",
    "clf5.fit(train_data, train_labels)\n",
    "pred = clf5.predict(test_data)"
   ]
  },
  {
   "cell_type": "code",
   "execution_count": 54,
   "metadata": {},
   "outputs": [
    {
     "name": "stdout",
     "output_type": "stream",
     "text": [
      "0.8704663212435233\n"
     ]
    }
   ],
   "source": [
    "count = 0\n",
    "\n",
    "for i in range(len(pred)):\n",
    "    #print('Predicted: ' + str(pred[i]) + ', Actual: ' + str(test_labels[i]))\n",
    "    if pred[i] == test_labels[i]:\n",
    "        count += 1\n",
    "        \n",
    "print(count / len(test_labels))"
   ]
  },
  {
   "cell_type": "code",
   "execution_count": null,
   "metadata": {
    "collapsed": true
   },
   "outputs": [],
   "source": []
  }
 ],
 "metadata": {
  "kernelspec": {
   "display_name": "Python 3",
   "language": "python",
   "name": "python3"
  },
  "language_info": {
   "codemirror_mode": {
    "name": "ipython",
    "version": 3
   },
   "file_extension": ".py",
   "mimetype": "text/x-python",
   "name": "python",
   "nbconvert_exporter": "python",
   "pygments_lexer": "ipython3",
   "version": "3.6.0"
  }
 },
 "nbformat": 4,
 "nbformat_minor": 2
}
