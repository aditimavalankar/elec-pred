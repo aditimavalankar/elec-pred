{
 "cells": [
  {
   "cell_type": "markdown",
   "metadata": {},
   "source": [
    "# Basic latent factor model"
   ]
  },
  {
   "cell_type": "code",
   "execution_count": 1,
   "metadata": {
    "collapsed": true
   },
   "outputs": [],
   "source": [
    "from surprise import SVD\n",
    "from surprise import evaluate, print_perf, Reader, Dataset, accuracy\n",
    "import pickle\n",
    "import numpy as np\n",
    "from random import shuffle\n",
    "from bs4 import BeautifulSoup\n",
    "import requests\n",
    "import math\n",
    "import datetime\n",
    "import time"
   ]
  },
  {
   "cell_type": "code",
   "execution_count": 2,
   "metadata": {
    "collapsed": true
   },
   "outputs": [],
   "source": [
    "f = open('../Results/Pickles/member_names.pickle', 'rb')\n",
    "member_names = pickle.load(f)\n",
    "f.close()"
   ]
  },
  {
   "cell_type": "code",
   "execution_count": 3,
   "metadata": {
    "collapsed": true
   },
   "outputs": [],
   "source": [
    "f = open('../Results/Pickles/edge_details.pickle', 'rb')\n",
    "edge_details = pickle.load(f)\n",
    "f.close()"
   ]
  },
  {
   "cell_type": "code",
   "execution_count": 4,
   "metadata": {
    "collapsed": true
   },
   "outputs": [],
   "source": [
    "f = open('../Data/latent1.csv', 'w')\n",
    "\n",
    "n = len(member_names)\n",
    "\n",
    "for i in range(n):\n",
    "    for j in range(n):\n",
    "        if i == j:\n",
    "            continue\n",
    "        if (i, j) in edge_details or (j, i) in edge_details:\n",
    "            f.write(str(i) + ',' + str(j) + ',1\\n')\n",
    "        else:\n",
    "            f.write(str(i) + ',' + str(j) + ',0\\n')\n",
    "            \n",
    "f.close()   "
   ]
  },
  {
   "cell_type": "code",
   "execution_count": 5,
   "metadata": {
    "collapsed": true
   },
   "outputs": [],
   "source": [
    "file_path = '../Data/latent1.csv'\n",
    "\n",
    "reader = Reader(line_format='user item rating', sep=',')\n",
    "\n",
    "data = Dataset.load_from_file(file_path, reader=reader)\n",
    "data.split(n_folds=5)"
   ]
  },
  {
   "cell_type": "code",
   "execution_count": 6,
   "metadata": {},
   "outputs": [
    {
     "name": "stdout",
     "output_type": "stream",
     "text": [
      "RMSE: 0.7359\n",
      "RMSE: 0.7333\n",
      "RMSE: 0.7329\n",
      "RMSE: 0.7332\n",
      "RMSE: 0.7333\n"
     ]
    }
   ],
   "source": [
    "algo = SVD()\n",
    "\n",
    "for trainset, testset in data.folds():\n",
    "\n",
    "    # train and test algorithm.\n",
    "    algo.train(trainset)\n",
    "    predictions = algo.test(testset)\n",
    "\n",
    "    # Compute and print Root Mean Squared Error\n",
    "    rmse = accuracy.rmse(predictions, verbose=True)"
   ]
  },
  {
   "cell_type": "markdown",
   "metadata": {
    "collapsed": true
   },
   "source": [
    "# Latent Factor Model with timestamp"
   ]
  },
  {
   "cell_type": "code",
   "execution_count": 10,
   "metadata": {},
   "outputs": [
    {
     "name": "stdout",
     "output_type": "stream",
     "text": [
      "{2012: datetime.datetime(2012, 9, 7, 0, 0), 2010: datetime.datetime(2010, 12, 13, 0, 0), 2013: datetime.datetime(2013, 4, 26, 0, 0), 2014: datetime.datetime(2014, 2, 5, 0, 0), 2011: datetime.datetime(2011, 2, 25, 0, 0), 2009: datetime.datetime(2009, 12, 1, 0, 0)}\n"
     ]
    }
   ],
   "source": [
    "f = open('../Data/latent2.csv', 'w')\n",
    "\n",
    "n = len(member_names)\n",
    "\n",
    "all_timestamps = set([])\n",
    "yearwise_timestamps = {}\n",
    "\n",
    "for rec in edge_details:\n",
    "    for debate in edge_details[rec]:\n",
    "        for timestamp in edge_details[rec][debate]:\n",
    "            all_timestamps.add(timestamp)\n",
    "            \n",
    "for ts in all_timestamps:\n",
    "    if ts.year in yearwise_timestamps:\n",
    "        continue\n",
    "    yearwise_timestamps[ts.year] = ts\n",
    "    \n",
    "print(yearwise_timestamps)"
   ]
  },
  {
   "cell_type": "code",
   "execution_count": 11,
   "metadata": {},
   "outputs": [],
   "source": [
    "all_years = yearwise_timestamps.keys()\n",
    "\n",
    "for i in range(n):\n",
    "    for j in range(n):\n",
    "        if i == j:\n",
    "            continue\n",
    "        current_years = set([])\n",
    "        if (i, j) in edge_details or (j, i) in edge_details:\n",
    "            minind = min(i, j)\n",
    "            maxind = max(i, j)\n",
    "            for debate in edge_details[(minind, maxind)]:\n",
    "                for timestamp in edge_details[(minind, maxind)][debate]:\n",
    "                    f.write(str(i) + ',' + str(j) + ',1,' + str(timestamp) + '\\n')\n",
    "                    current_years.add(timestamp.year)\n",
    "            for year in all_years:\n",
    "                if year not in current_years:\n",
    "                    f.write(str(i) + ',' + str(j) + ',0,' + str(timestamp) + '\\n')\n",
    "        else:\n",
    "            for year in all_years:\n",
    "                f.write(str(i) + ',' + str(j) + ',0,' + str(timestamp) + '\\n')\n",
    "            \n",
    "f.close()   "
   ]
  },
  {
   "cell_type": "code",
   "execution_count": 12,
   "metadata": {
    "collapsed": true
   },
   "outputs": [],
   "source": [
    "file_path = '../Data/latent2.csv'\n",
    "\n",
    "reader = Reader(line_format='user item rating timestamp', sep=',')\n",
    "\n",
    "data = Dataset.load_from_file(file_path, reader=reader)\n",
    "data.split(n_folds=5)"
   ]
  },
  {
   "cell_type": "code",
   "execution_count": 13,
   "metadata": {},
   "outputs": [
    {
     "name": "stdout",
     "output_type": "stream",
     "text": [
      "RMSE: 0.8861\n",
      "RMSE: 0.8859\n",
      "RMSE: 0.8860\n",
      "RMSE: 0.8859\n",
      "RMSE: 0.8863\n"
     ]
    }
   ],
   "source": [
    "algo = SVD()\n",
    "\n",
    "for trainset, testset in data.folds():\n",
    "\n",
    "    # train and test algorithm.\n",
    "    algo.train(trainset)\n",
    "    predictions = algo.test(testset)\n",
    "\n",
    "    # Compute and print Root Mean Squared Error\n",
    "    rmse = accuracy.rmse(predictions, verbose=True)"
   ]
  },
  {
   "cell_type": "code",
   "execution_count": null,
   "metadata": {
    "collapsed": true
   },
   "outputs": [],
   "source": []
  }
 ],
 "metadata": {
  "kernelspec": {
   "display_name": "Python 3",
   "language": "python",
   "name": "python3"
  },
  "language_info": {
   "codemirror_mode": {
    "name": "ipython",
    "version": 3
   },
   "file_extension": ".py",
   "mimetype": "text/x-python",
   "name": "python",
   "nbconvert_exporter": "python",
   "pygments_lexer": "ipython3",
   "version": "3.6.0"
  }
 },
 "nbformat": 4,
 "nbformat_minor": 2
}
